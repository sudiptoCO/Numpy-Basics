{
 "cells": [
  {
   "cell_type": "markdown",
   "metadata": {},
   "source": [
    "## Arrays\n",
    "Both vectors and matrices are `NumPy` arrays. Each array in `NumPy` has a dimension. Vectors are one-dimensional arrays while matrices are two-dimensional arrays.\n"
   ]
  },
  {
   "cell_type": "code",
   "execution_count": 2,
   "metadata": {},
   "outputs": [
    {
     "name": "stdout",
     "output_type": "stream",
     "text": [
      "x has shape (3,)\n",
      "M has shape (3, 2)\n",
      "x is an array of dimension 1\n",
      "M is an array of dimension 2\n"
     ]
    }
   ],
   "source": [
    "import numpy as np\n",
    "x = np.array([1, 2, 3])\n",
    "M = np.array([[1, 2], [3, 4], [5, 6]])\n",
    "\n",
    "print('x has shape', x.shape)\n",
    "print('M has shape', M.shape)\n",
    "\n",
    "print('x is an array of dimension', x.ndim)\n",
    "print('M is an array of dimension', M.ndim)"
   ]
  },
  {
   "cell_type": "markdown",
   "metadata": {},
   "source": [
    "## Reshaping\n",
    "\n",
    "Arrays can be reshaped. We will start with an example. Let us start with a matrix"
   ]
  },
  {
   "cell_type": "code",
   "execution_count": 3,
   "metadata": {},
   "outputs": [
    {
     "data": {
      "text/plain": [
       "array([1, 2, 3, 4, 5, 6])"
      ]
     },
     "execution_count": 3,
     "metadata": {},
     "output_type": "execute_result"
    }
   ],
   "source": [
    "M = np.array([[1, 2, 3], [4, 5, 6]])\n",
    "x = M.reshape(6)\n",
    "x"
   ]
  },
  {
   "cell_type": "code",
   "execution_count": 4,
   "metadata": {},
   "outputs": [
    {
     "data": {
      "text/plain": [
       "array([[1, 2],\n",
       "       [3, 4],\n",
       "       [5, 6]])"
      ]
     },
     "execution_count": 4,
     "metadata": {},
     "output_type": "execute_result"
    }
   ],
   "source": [
    "x = np.array([1, 2, 3, 4, 5, 6])\n",
    "M = x.reshape((3, 2))\n",
    "M"
   ]
  },
  {
   "cell_type": "markdown",
   "metadata": {},
   "source": [
    "## Matrix-vector addition (broadcasting)\n",
    "\n",
    "In many ML models, we would have to add a vector to each row or column of a matrix. For example, consider the following case for row-wise addition:"
   ]
  },
  {
   "cell_type": "code",
   "execution_count": 5,
   "metadata": {},
   "outputs": [
    {
     "name": "stdout",
     "output_type": "stream",
     "text": [
      "Shape of M: (2, 4)\n",
      "Shape of b: (4,)\n"
     ]
    },
    {
     "data": {
      "text/plain": [
       "array([[2, 3, 4, 5],\n",
       "       [6, 7, 8, 9]])"
      ]
     },
     "execution_count": 5,
     "metadata": {},
     "output_type": "execute_result"
    }
   ],
   "source": [
    "M = np.array([[1, 2, 3, 4], [5, 6, 7, 8]])\n",
    "b = np.array([1, 1, 1, 1])\n",
    "print('Shape of M:', M.shape)\n",
    "print('Shape of b:', b.shape)\n",
    "\n",
    "M + b"
   ]
  },
  {
   "cell_type": "markdown",
   "metadata": {},
   "source": [
    "## Column-wise addition \n",
    " Same concept does not work for column wise additon , some fix has to be done to make it work"
   ]
  },
  {
   "cell_type": "code",
   "execution_count": 7,
   "metadata": {},
   "outputs": [
    {
     "name": "stdout",
     "output_type": "stream",
     "text": [
      "Shape of M: (2, 4)\n",
      "Shape of b: (2,)\n"
     ]
    }
   ],
   "source": [
    "M = np.array([[1, 2, 3, 4], [5, 6, 7, 8]])\n",
    "b = np.array([1, 2])\n",
    "print('Shape of M:', M.shape)\n",
    "print('Shape of b:', b.shape)\n",
    "#print(M + b) this will cause an error saying the dimensions of b are not compatible with M\n",
    "# operands could not be broadcast together with shapes (2,4) (2,) \n"
   ]
  },
  {
   "cell_type": "code",
   "execution_count": 8,
   "metadata": {},
   "outputs": [
    {
     "name": "stdout",
     "output_type": "stream",
     "text": [
      "Shape of M: (2, 4)\n",
      "Shape of b before adding dimension: (2,)\n",
      "Shape of b after adding dimension: (2, 1)\n"
     ]
    },
    {
     "data": {
      "text/plain": [
       "array([[ 2,  3,  4,  5],\n",
       "       [ 7,  8,  9, 10]])"
      ]
     },
     "execution_count": 8,
     "metadata": {},
     "output_type": "execute_result"
    }
   ],
   "source": [
    "M = np.array([[1, 2, 3, 4], [5, 6, 7, 8]])\n",
    "b = np.array([1, 2])\n",
    "print('Shape of M:', M.shape)\n",
    "print('Shape of b before adding dimension:', b.shape)\n",
    "b = np.expand_dims(b, 1)\n",
    "print('Shape of b after adding dimension:', b.shape)\n",
    "\n",
    "M + b"
   ]
  },
  {
   "cell_type": "markdown",
   "metadata": {},
   "source": [
    "## Stacking arrays\n",
    "\n",
    "Sometimes, we would want to stack arrays. Consider the two matrices:"
   ]
  },
  {
   "cell_type": "code",
   "execution_count": 10,
   "metadata": {},
   "outputs": [
    {
     "name": "stdout",
     "output_type": "stream",
     "text": [
      "(4, 2)\n",
      "[[1 2]\n",
      " [3 4]\n",
      " [5 6]\n",
      " [7 8]]\n",
      "(2, 4)\n",
      "[[1 2 5 6]\n",
      " [3 4 7 8]]\n"
     ]
    }
   ],
   "source": [
    "A = np.array([[1, 2], [3, 4]])\n",
    "B = np.array([[5, 6], [7, 8]])\n",
    "\n",
    "C = np.concatenate((A, B), axis = 0)\n",
    "D= np.concatenate((A, B), axis = 1)\n",
    "print(C.shape)\n",
    "print(C)\n",
    "print(D.shape)\n",
    "print(D)"
   ]
  },
  {
   "cell_type": "markdown",
   "metadata": {},
   "source": [
    "## Sum, Mean and Variance\n",
    "\n",
    "Sometimes we may wish to compute the sum of a particular slice of an array. For example, consider the matrix:"
   ]
  },
  {
   "cell_type": "code",
   "execution_count": 14,
   "metadata": {},
   "outputs": [
    {
     "name": "stdout",
     "output_type": "stream",
     "text": [
      "Sum of the rows: [10 26]\n",
      "Sum of the columns: [ 6  8 10 12]\n",
      "Variance of the rows: [1.25 1.25]\n",
      "Variance of the columns: [4. 4. 4. 4.]\n",
      "Mean of the rows: [2.5 6.5]\n",
      "Mean of the columns: [3. 4. 5. 6.]\n"
     ]
    }
   ],
   "source": [
    "A = np.array([[1, 2, 3, 4], [5, 6, 7, 8]])\n",
    "rsum = A.sum(axis = 1)\n",
    "csum = A.sum(axis = 0)\n",
    "\n",
    "print('Sum of the rows:', rsum)\n",
    "print('Sum of the columns:', csum)\n",
    "\n",
    "rvar = A.var(axis = 1)\n",
    "cvar = A.var(axis = 0)\n",
    "print('Variance of the rows:', rvar)\n",
    "print('Variance of the columns:', cvar)\n",
    "\n",
    "rmean = A.mean(axis = 1)\n",
    "cmean = A.mean(axis = 0)\n",
    "print('Mean of the rows:', rmean)\n",
    "print('Mean of the columns:', cmean)\n"
   ]
  }
 ],
 "metadata": {
  "interpreter": {
   "hash": "e5bfde8dca0f19ac5c39b79f40ae22841584ff42f864a79706c489d173327b2e"
  },
  "kernelspec": {
   "display_name": "Python 3.10.2 64-bit",
   "language": "python",
   "name": "python3"
  },
  "language_info": {
   "codemirror_mode": {
    "name": "ipython",
    "version": 3
   },
   "file_extension": ".py",
   "mimetype": "text/x-python",
   "name": "python",
   "nbconvert_exporter": "python",
   "pygments_lexer": "ipython3",
   "version": "3.10.2"
  },
  "orig_nbformat": 4
 },
 "nbformat": 4,
 "nbformat_minor": 2
}
