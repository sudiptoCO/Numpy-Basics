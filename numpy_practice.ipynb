{
 "cells": [
  {
   "cell_type": "markdown",
   "metadata": {},
   "source": [
    "Write a function named vec_addition(u,v) which takes two vectors u and v as input and returns their vector addition.\n",
    " \n",
    "  1. Inputs: u and v are two numerical numpy arrays. \n",
    "  2. Output: a vector representing sum of u and v, if they have consistent shapes, None otherwise."
   ]
  },
  {
   "cell_type": "code",
   "execution_count": 3,
   "metadata": {},
   "outputs": [],
   "source": [
    "import numpy as np\n",
    "\n",
    "def vec_addition(u,v): # u and v are vectors\n",
    "    if u.shape != v.shape:\n",
    "        \n",
    "        u= np.expand_dims(u, axis=0)\n",
    "        v= np.expand_dims(v, axis=1)\n",
    "        A = u+v\n",
    "    else:\n",
    "        A = u+v\n",
    "    return A"
   ]
  },
  {
   "cell_type": "markdown",
   "metadata": {},
   "source": [
    "write a function named scalar_multiply(u,k) which takes a vector u and a scalar k as input and returns k times u as output\n",
    " \n",
    "  1. Inputs: A vector u and a scalar k\n",
    "  2. Output: Returns a vector which is k times u"
   ]
  },
  {
   "cell_type": "code",
   "execution_count": null,
   "metadata": {},
   "outputs": [],
   "source": [
    "import numpy as np\n",
    "def scalar_multiply(u,k):\n",
    "    M= k*u\n",
    "    return M"
   ]
  },
  {
   "cell_type": "markdown",
   "metadata": {},
   "source": [
    "Write a function hadamard(u,v) which takes two vectors u and v as input and returns hadamard product of u and v.\n",
    "Hdamard product is obtained via multiplying two matrices/vectors elementwise.\n",
    "\n",
    "1. Inputs: Two vectors u and v\n",
    "2. Output: Hadamard product of u and v if the dimensions of u and v are consistent, otherwise None"
   ]
  },
  {
   "cell_type": "code",
   "execution_count": null,
   "metadata": {},
   "outputs": [],
   "source": [
    "def hadamard(u,v):\n",
    "    if u.shape != v.shape:\n",
    "        return None\n",
    "    else:\n",
    "        M = u*v\n",
    "        return M"
   ]
  },
  {
   "cell_type": "markdown",
   "metadata": {},
   "source": [
    "Write a function dot_product(u,v) which take two vectors u and v as input and returns inner product of u and v as output\n",
    " \n",
    "  1. Inputs: vectors u and v \n",
    "  2. Output: dot product of u and v if u and v have consistent dimension otherwise None"
   ]
  },
  {
   "cell_type": "code",
   "execution_count": null,
   "metadata": {},
   "outputs": [],
   "source": [
    "def dot_product(u,v):\n",
    "    if u.shape != v.shape:\n",
    "        return None\n",
    "    else:\n",
    "        M = u.dot(v)\n",
    "        return M"
   ]
  },
  {
   "cell_type": "markdown",
   "metadata": {},
   "source": [
    "Write a function add_constant(u,k) which adds a constant k to each element of u\n",
    " \n",
    "  1. Inputs: u is a vector,k is a scalar \n",
    "  2. Output: C is a vector"
   ]
  },
  {
   "cell_type": "code",
   "execution_count": null,
   "metadata": {},
   "outputs": [],
   "source": [
    "def add_constant(u,v):\n",
    "    return u+v"
   ]
  },
  {
   "cell_type": "markdown",
   "metadata": {},
   "source": [
    "Write a function add_matrix(X,Y) to add two matrices X and Y.\n",
    " \n",
    "  1. Inputs: X is a matrix, Y is a matrix \n",
    "  2. Output: Z is a matrix representing (X+Y) if X and Y have consistent dimension otherwise None"
   ]
  },
  {
   "cell_type": "code",
   "execution_count": null,
   "metadata": {},
   "outputs": [],
   "source": [
    "def add_matrix(X,Y):\n",
    "    if X.shape != Y.shape:\n",
    "        return None\n",
    "    else:\n",
    "        M = X+Y\n",
    "        return M"
   ]
  }
 ],
 "metadata": {
  "interpreter": {
   "hash": "e5bfde8dca0f19ac5c39b79f40ae22841584ff42f864a79706c489d173327b2e"
  },
  "kernelspec": {
   "display_name": "Python 3.10.2 64-bit",
   "language": "python",
   "name": "python3"
  },
  "language_info": {
   "codemirror_mode": {
    "name": "ipython",
    "version": 3
   },
   "file_extension": ".py",
   "mimetype": "text/x-python",
   "name": "python",
   "nbconvert_exporter": "python",
   "pygments_lexer": "ipython3",
   "version": "3.10.2"
  },
  "orig_nbformat": 4
 },
 "nbformat": 4,
 "nbformat_minor": 2
}
